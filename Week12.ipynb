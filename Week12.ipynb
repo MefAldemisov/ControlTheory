{
 "cells": [
  {
   "cell_type": "code",
   "execution_count": 1,
   "metadata": {},
   "outputs": [
    {
     "name": "stderr",
     "output_type": "stream",
     "text": [
      "/usr/lib/python3.7/importlib/_bootstrap.py:219: RuntimeWarning: numpy.ufunc size changed, may indicate binary incompatibility. Expected 192 from C header, got 216 from PyObject\n",
      "  return f(*args, **kwds)\n",
      "/usr/lib/python3.7/importlib/_bootstrap.py:219: RuntimeWarning: numpy.ufunc size changed, may indicate binary incompatibility. Expected 192 from C header, got 216 from PyObject\n",
      "  return f(*args, **kwds)\n"
     ]
    }
   ],
   "source": [
    "import numpy as np\n",
    "import matplotlib.pyplot as plt\n",
    "import scipy.integrate as ineg"
   ]
  },
  {
   "cell_type": "markdown",
   "metadata": {},
   "source": [
    "$$m(t) = 2+0.25cos(0.25t)$$\n",
    "$$u=u_{ff}+u_{fb}$$\n",
    "$$u_{ff}=m(t)\\ddot{x}_d(t)+b\\dot{x}+kx$$\n",
    "$$u_{fb}=k_d(\\dot{x}_d(t)-\\dot{x}(t))+k_p(x_d(t)-x(t))$$"
   ]
  },
  {
   "cell_type": "markdown",
   "metadata": {},
   "source": [
    "## Task 1:\n",
    "\n",
    "model and sumulate spring-mass-damper system with varying mass with\n",
    "$u = 0$ for several different initial conditions"
   ]
  },
  {
   "cell_type": "markdown",
   "metadata": {},
   "source": [
    "**Answer**\n",
    "\n",
    "$u = 0 \\Rightarrow u_{ff}=-u{fb}$\n",
    "\n",
    "$$m(t)\\ddot{x}_d(t)+b\\dot{x}+kx=-k_d(\\dot{x}_d(t)-\\dot{x}(t))-k_p(x_d(t)-x(t))$$\n",
    "\n",
    "Also it is known that $$m\\ddot{x} + b\\dot{x} + kx = 0$$"
   ]
  },
  {
   "cell_type": "code",
   "execution_count": 23,
   "metadata": {},
   "outputs": [],
   "source": [
    "# simple simulation:\n",
    "\n",
    "b = 0.25\n",
    "k = 0.32\n",
    "\n",
    "def m(t):\n",
    "    return 2 + 0.25*np.cos(0.25*t)\n",
    "\n",
    "def A(t):\n",
    "    return np.array([[-b/m(t), -k/m(t)], \n",
    "                     [1, 0]])\n",
    "\n",
    "def approx(x, t):\n",
    "    return np.dot(A(t), x)\n",
    "\n",
    "time = np.linspace(0, 120, 1000)\n",
    "x0 = np.random.rand(2)*0.01\n",
    "\n",
    "res = ineg.odeint(approx, x0, time)\n"
   ]
  },
  {
   "cell_type": "code",
   "execution_count": 24,
   "metadata": {},
   "outputs": [
    {
     "data": {
      "image/png": "[encoded data removed]",
      "text/plain": [
       "<Figure size 432x288 with 1 Axes>"
      ]
     },
     "metadata": {
      "needs_background": "light"
     },
     "output_type": "display_data"
    }
   ],
   "source": [
    "plt.plot(time, res)\n",
    "plt.grid()"
   ]
  },
  {
   "cell_type": "markdown",
   "metadata": {},
   "source": [
    "## Task2\n",
    "\n",
    "rewrite dynamics in regressor form $u = Y (\\ddot{x}, \\dot{x}, x)\\pi$"
   ]
  },
  {
   "cell_type": "markdown",
   "metadata": {},
   "source": [
    "$$u = m(t)\\ddot{x}_d(t)+b\\dot{x}+kx + k_d(\\dot{x}_d(t)-\\dot{x}(t))+k_p(x_d(t)-x(t))$$"
   ]
  },
  {
   "cell_type": "markdown",
   "metadata": {},
   "source": [
    "$$u = \\begin{bmatrix}\\ddot{x} \\\\ \\dot{x} \\\\ x\\end{bmatrix}\\begin{bmatrix}m(t) & b & k\\end{bmatrix}$$"
   ]
  },
  {
   "cell_type": "markdown",
   "metadata": {},
   "source": [
    "## Task 3\n",
    "\n",
    "implement online parameter estimation using gradient descent (Slide 8 of\n",
    "today’s lecture). Keep in mind that π̂ is the output of the dynamic system!"
   ]
  },
  {
   "cell_type": "code",
   "execution_count": null,
   "metadata": {},
   "outputs": [],
   "source": [
    "dt = time[1]-time[0]\n",
    "L = np.array([[0.9, 0, 0],\n",
    "              [0, 1.1, 0],\n",
    "              [0, 0, 1]])\n",
    "\n",
    "acc = [res[k][0] - res[k-1][0] for k in range(1, len(t))]\n",
    "acc.append([0])\n",
    "\n",
    "Y = np.array([acc, res.T[0], res.T[1]])\n",
    "\n",
    "for t in time:\n",
    "    d_theta_bar = - dt * np.dot(L, np.dot(Y.T, Y)).dot(theta - theta_bar)\n",
    "    theta_bar += d_thea_bar"
   ]
  }
 ],
 "metadata": {
  "kernelspec": {
   "display_name": "Python 3",
   "language": "python",
   "name": "python3"
  },
  "language_info": {
   "codemirror_mode": {
    "name": "ipython",
    "version": 3
   },
   "file_extension": ".py",
   "mimetype": "text/x-python",
   "name": "python",
   "nbconvert_exporter": "python",
   "pygments_lexer": "ipython3",
   "version": "3.7.3"
  }
 },
 "nbformat": 4,
 "nbformat_minor": 2
}
