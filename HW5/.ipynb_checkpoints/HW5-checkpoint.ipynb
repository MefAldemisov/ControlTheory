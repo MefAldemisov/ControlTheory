{
 "cells": [
  {
   "cell_type": "markdown",
   "metadata": {},
   "source": [
    "### Task\n",
    "\n",
    "This homework is about parameter estimation and feedforward adaptive\n",
    "control of mechanical systems. In particular we consider planar two link ma-\n",
    "nipulator (Fig.1).\n",
    "\n",
    "The dynamics of the robot can be written in standard manipulator form [1]\n",
    "\n",
    "$$M (q)\\ddot{q} + C(q, \\dot{q})\\dot{q} + g(q) = \\tau$$\n",
    "\n",
    "where $q =\\begin{bmatrix}q_1 & q_2\\end{bmatrix}^T$ (1)\n",
    "\n",
    "\n",
    "as well as in regressor form\n",
    "$$Y (q, \\dot{q}, \\ddot{q})\\pi = \\tau$$(2)\n",
    "\n",
    "\n",
    "Therefore all the algorithms you studied during the last two labs can be applied\n",
    "to this robot (hooray).\n",
    "\n",
    "Complete the following tasks:"
   ]
  },
  {
   "cell_type": "markdown",
   "metadata": {},
   "source": [
    "1. choose physically adequate values for kinematic ($l_1$ , $l_2$ ) and dynamic parameters ($l_{c1}$ , $l_{c2}$ , $m_1$ , $m_2$ )"
   ]
  },
  {
   "cell_type": "code",
   "execution_count": 1,
   "metadata": {},
   "outputs": [],
   "source": [
    "import numpy as np\n",
    "import matplotlib.pyplot as plt\n",
    "from scipy.integrate import odeint"
   ]
  },
  {
   "cell_type": "code",
   "execution_count": 8,
   "metadata": {},
   "outputs": [],
   "source": [
    "l_1 = 0.5\n",
    "l_2 = 0.5\n",
    "l_c1 = 0.25\n",
    "l_c2 = 0.25\n",
    "m_1 = 0.1\n",
    "m_2 = 0.2\n",
    "\n",
    "g = 9.81"
   ]
  },
  {
   "cell_type": "markdown",
   "metadata": {},
   "source": [
    "## **Answer**\n",
    "As known, from the course of physics:\n",
    "\n",
    "$I_i = \\frac{1}{3}m_i l_{ci}^{2}$ - inertia moment"
   ]
  },
  {
   "cell_type": "markdown",
   "metadata": {},
   "source": [
    "Let's find matrices M, C and g from the given source:\n",
    "\n",
    "Given:\n"
   ]
  },
  {
   "cell_type": "markdown",
   "metadata": {},
   "source": [
    "$$d_{11}\\ddot{q_1} + d_{12}\\ddot{q_2} + c_{121}\\dot{q_1}\\dot{q_2}+ c_{211}\\dot{q_2}\\dot{q_1} + c_{221}\\dot{q_2}^2 + \\phi_1 = \\tau_1$$\n",
    "$$d_{21}\\ddot{q_1} + d_{22}\\ddot{q_2} + c_{112}\\dot{q_1}^2 + \\phi_2 = \\tau_2$$"
   ]
  },
  {
   "cell_type": "markdown",
   "metadata": {},
   "source": [
    "Can be rwritten as:\n",
    "\n",
    "$$\\begin{bmatrix} d_{11} & d_{12} \\\\ d_{21} & d_{22}\\end{bmatrix}\\ddot{q} +\n",
    "\\begin{bmatrix} c_{121}\\dot{q_2} & c_{211}\\dot{q_1} \\\\ c_{112}\\dot{q_1} & 0 \\end{bmatrix}\\dot{q} + \n",
    "\\begin{bmatrix} \\phi_1 \\\\ \\phi_2 \\end{bmatrix} = \\tau$$\n",
    "\n",
    "where\n",
    "\n",
    "$$d_{11} = m_1 l_{c1}^2 + m_2(l_1^2 + l_{c2}^2 + 2l_1l_{c2}^2 + 2l_1l_{c2}cos(q_2)) + \n",
    "\\frac{1}{3}m_1 l_{c1}^2 +  \\frac{1}{3}m_2 l_{c2}^2 $$\n",
    "\n",
    "$$d_{12}=d_{21} = m_2(l_{c2}^2 + l_1 l_{c2} cos(q_2)) + \\frac{1}{3}m_2 l_{c2}^2$$\n",
    "\n",
    "$$d_{22} = \\frac{4}{3} m_2 l_{c2}^2 $$\n",
    "\n",
    "thus, $$\\boxed{M(q) = \\begin{bmatrix}  m_2l_1(l_1 + 2l_{c2}^2 + 2l_{c2}cos(q_2)) + \n",
    "\\frac{4}{3}m_1 l_{c1}^2 +  \\frac{4}{3}m_2 l_{c2}^2 &\n",
    "m_2l_1 l_{c2} cos(q_2) + \\frac{4}{3}m_2 l_{c2}^2 \n",
    "\\\\ m_2 l_1 l_{c2} cos(q_2) + \\frac{4}{3}m_2 l_{c2}^2 & \n",
    "\\frac{4}{3} m_2 l_{c2}^2 \\end{bmatrix}}$$"
   ]
  },
  {
   "cell_type": "markdown",
   "metadata": {},
   "source": [
    "It is known, that\n",
    "\n",
    "$$c_{121}=c_{211} = -m_2l_1l_{c2}sin(q_2) = -c_{112} = h$$\n",
    "\n",
    "So, \n",
    "\n",
    "$$\\boxed{C (q, \\dot{q})= \\begin{bmatrix} h\\dot{q_2} & h(\\dot{q_2} + \\dot{q_1}) \\\\ -h\\dot{q_1} & 0\\end{bmatrix}}$$"
   ]
  },
  {
   "cell_type": "markdown",
   "metadata": {},
   "source": [
    "Using, the fact that\n",
    "$$\\phi_1 = (m_1 l_{c1} + m_2 l_1)g cos(q_1) + m_2 l_{c2}gcos(q_1+q_2)$$\n",
    "$$\\phi_2 = m_2 l_{c2} cos(q_1 + q_2)$$\n",
    "\n",
    "We can conclude that\n",
    "\n",
    "$$\\boxed{g (q)= \\begin{bmatrix} (m_1 l_{c1} + m_2 l_1)g cos(q_1) + m_2 l_{c2}gcos(q_1+q_2) \\\\  m_2 l_{c2} cos(q_1 + q_2)\\end{bmatrix}}$$"
   ]
  },
  {
   "cell_type": "markdown",
   "metadata": {},
   "source": [
    "Also it s possible to find that:\n",
    "$$Y (q, \\dot{q}, \\ddot{q}) = \\begin{bmatrix} \\ddot{q_2} & cos(q_2)(2\\ddot{q_1} + \\ddot{q_2})+sin(q_2)(\\dot{q_1}^2 - 2\\dot{q_1}\\dot{q_2}) & \\ddot{q_2} & gcos(q_1) & gcos(q_1 + q_2) \\\\\n",
    "0 & cos(q_2)\\ddot{q_1} + sin(q_2)\\dot{q_1}^2 & \\ddot{q_2} & 0 & gcos(q_1 + q_2)\n",
    "\\end{bmatrix}$$\n",
    "\n",
    "and\n",
    "\n",
    "$$\\boxed{\\Theta = \\pi = \\begin{bmatrix} \n",
    "m_2 l_1^2 + \\frac{4}{3}m_1 l_{c1}^2 + \\frac{4}{3}m_2 l_{c2}^2 \\\\\n",
    "m_2l_1l_{c2}\\\\\n",
    "m_2l_1l_{c2}\\\\\n",
    "m_1 l_{c1} + m_2 l_1 \\\\\n",
    "m_2l_2\n",
    "\\end{bmatrix}}$$"
   ]
  },
  {
   "cell_type": "markdown",
   "metadata": {},
   "source": [
    "Criterias of chosing parameters:\n",
    "    \n",
    "   $$ 0<l_{ci} < l_i$$"
   ]
  },
  {
   "cell_type": "markdown",
   "metadata": {},
   "source": [
    "2. Using expressions for M (q), C(q, $\\dot{q}$) and g(q) from [1] simulate the system;"
   ]
  },
  {
   "cell_type": "code",
   "execution_count": 5,
   "metadata": {},
   "outputs": [],
   "source": [
    "def M(q):\n",
    "    q_1 = q[0]\n",
    "    q_2 = q[1]\n",
    "    return np.array([[m_2*l_1(l_1 + 2*l_c2**2 + 2*l_c2*np.cos(q_2)) + 4/3*(m_1*(l_c1**2))+ 4/3*(m_2*(l_c2**2)), \n",
    "                     m_2*l_1*l_c2*np.cos(q_2) + 4/3*(m_2*(l_c2**2))\n",
    "                     ], [m_2*l_1*l_c2*np.cos(q_2) + 4/3*(m_2*(l_c2**2)), 4/3*(m_2*(l_c2**2))]])\n",
    "\n",
    "def C(q, q_dot):\n",
    "    q_1 = q[0]\n",
    "    q_2 = q[1]\n",
    "    q_dot_1 = q_dot[0]\n",
    "    q_dot_2 = q_dot[1]\n",
    "    h = -m_2*l_1*l_c2*np.sin(q_2)\n",
    "    return np.array([[h*q_dot_2, h*(q_dot_2 + q_dot_1)], [-h*q_dot_1, 0]])\n",
    "\n",
    "def G(q):\n",
    "    q_1 = q[0]\n",
    "    q_2 = q[1]\n",
    "    return np.array([(m_1*l_c1+ m_2*l_1)*g*np.cos(q_1) + m_2*l_c2*g*np.cos(q_1 + q_2), \n",
    "                     m_2*l_c2*np.cos(q_1+q_2)])\n",
    "\n"
   ]
  },
  {
   "cell_type": "code",
   "execution_count": 15,
   "metadata": {},
   "outputs": [
    {
     "ename": "TypeError",
     "evalue": "'float' object is not callable",
     "output_type": "error",
     "traceback": [
      "\u001b[0;31m---------------------------------------------------------------------------\u001b[0m",
      "\u001b[0;31mTypeError\u001b[0m                                 Traceback (most recent call last)",
      "\u001b[0;32m<ipython-input-15-22e05ea593ae>\u001b[0m in \u001b[0;36m<module>\u001b[0;34m\u001b[0m\n\u001b[1;32m     11\u001b[0m \u001b[0mtime\u001b[0m \u001b[0;34m=\u001b[0m \u001b[0mnp\u001b[0m\u001b[0;34m.\u001b[0m\u001b[0mlinspace\u001b[0m\u001b[0;34m(\u001b[0m\u001b[0;36m0\u001b[0m\u001b[0;34m,\u001b[0m \u001b[0;36m5\u001b[0m\u001b[0;34m,\u001b[0m \u001b[0;36m10000\u001b[0m\u001b[0;34m)\u001b[0m\u001b[0;34m\u001b[0m\u001b[0;34m\u001b[0m\u001b[0m\n\u001b[1;32m     12\u001b[0m \u001b[0mx_0\u001b[0m \u001b[0;34m=\u001b[0m \u001b[0mnp\u001b[0m\u001b[0;34m.\u001b[0m\u001b[0marray\u001b[0m\u001b[0;34m(\u001b[0m\u001b[0;34m[\u001b[0m\u001b[0;36m0.01\u001b[0m\u001b[0;34m,\u001b[0m \u001b[0;36m0.01\u001b[0m\u001b[0;34m,\u001b[0m\u001b[0;36m0.001\u001b[0m\u001b[0;34m,\u001b[0m \u001b[0;36m0.001\u001b[0m\u001b[0;34m]\u001b[0m\u001b[0;34m)\u001b[0m\u001b[0;34m\u001b[0m\u001b[0;34m\u001b[0m\u001b[0m\n\u001b[0;32m---> 13\u001b[0;31m \u001b[0mres\u001b[0m \u001b[0;34m=\u001b[0m \u001b[0modeint\u001b[0m\u001b[0;34m(\u001b[0m\u001b[0msimulation\u001b[0m\u001b[0;34m,\u001b[0m \u001b[0mx_0\u001b[0m\u001b[0;34m,\u001b[0m \u001b[0mtime\u001b[0m\u001b[0;34m)\u001b[0m\u001b[0;34m\u001b[0m\u001b[0;34m\u001b[0m\u001b[0m\n\u001b[0m",
      "\u001b[0;32m~/.local/lib/python3.7/site-packages/scipy/integrate/odepack.py\u001b[0m in \u001b[0;36modeint\u001b[0;34m(func, y0, t, args, Dfun, col_deriv, full_output, ml, mu, rtol, atol, tcrit, h0, hmax, hmin, ixpr, mxstep, mxhnil, mxordn, mxords, printmessg, tfirst)\u001b[0m\n\u001b[1;32m    242\u001b[0m                              \u001b[0mfull_output\u001b[0m\u001b[0;34m,\u001b[0m \u001b[0mrtol\u001b[0m\u001b[0;34m,\u001b[0m \u001b[0matol\u001b[0m\u001b[0;34m,\u001b[0m \u001b[0mtcrit\u001b[0m\u001b[0;34m,\u001b[0m \u001b[0mh0\u001b[0m\u001b[0;34m,\u001b[0m \u001b[0mhmax\u001b[0m\u001b[0;34m,\u001b[0m \u001b[0mhmin\u001b[0m\u001b[0;34m,\u001b[0m\u001b[0;34m\u001b[0m\u001b[0;34m\u001b[0m\u001b[0m\n\u001b[1;32m    243\u001b[0m                              \u001b[0mixpr\u001b[0m\u001b[0;34m,\u001b[0m \u001b[0mmxstep\u001b[0m\u001b[0;34m,\u001b[0m \u001b[0mmxhnil\u001b[0m\u001b[0;34m,\u001b[0m \u001b[0mmxordn\u001b[0m\u001b[0;34m,\u001b[0m \u001b[0mmxords\u001b[0m\u001b[0;34m,\u001b[0m\u001b[0;34m\u001b[0m\u001b[0;34m\u001b[0m\u001b[0m\n\u001b[0;32m--> 244\u001b[0;31m                              int(bool(tfirst)))\n\u001b[0m\u001b[1;32m    245\u001b[0m     \u001b[0;32mif\u001b[0m \u001b[0moutput\u001b[0m\u001b[0;34m[\u001b[0m\u001b[0;34m-\u001b[0m\u001b[0;36m1\u001b[0m\u001b[0;34m]\u001b[0m \u001b[0;34m<\u001b[0m \u001b[0;36m0\u001b[0m\u001b[0;34m:\u001b[0m\u001b[0;34m\u001b[0m\u001b[0;34m\u001b[0m\u001b[0m\n\u001b[1;32m    246\u001b[0m         \u001b[0mwarning_msg\u001b[0m \u001b[0;34m=\u001b[0m \u001b[0m_msgs\u001b[0m\u001b[0;34m[\u001b[0m\u001b[0moutput\u001b[0m\u001b[0;34m[\u001b[0m\u001b[0;34m-\u001b[0m\u001b[0;36m1\u001b[0m\u001b[0;34m]\u001b[0m\u001b[0;34m]\u001b[0m \u001b[0;34m+\u001b[0m \u001b[0;34m\" Run with full_output = 1 to get quantitative information.\"\u001b[0m\u001b[0;34m\u001b[0m\u001b[0;34m\u001b[0m\u001b[0m\n",
      "\u001b[0;32m<ipython-input-15-22e05ea593ae>\u001b[0m in \u001b[0;36msimulation\u001b[0;34m(x, t)\u001b[0m\n\u001b[1;32m      4\u001b[0m \u001b[0;34m\u001b[0m\u001b[0m\n\u001b[1;32m      5\u001b[0m     \u001b[0mx\u001b[0m \u001b[0;34m=\u001b[0m \u001b[0mnp\u001b[0m\u001b[0;34m.\u001b[0m\u001b[0marray\u001b[0m\u001b[0;34m(\u001b[0m\u001b[0;34m[\u001b[0m\u001b[0;34m[\u001b[0m\u001b[0mx\u001b[0m\u001b[0;34m[\u001b[0m\u001b[0;36m0\u001b[0m\u001b[0;34m]\u001b[0m\u001b[0;34m,\u001b[0m \u001b[0mx\u001b[0m\u001b[0;34m[\u001b[0m\u001b[0;36m1\u001b[0m\u001b[0;34m]\u001b[0m\u001b[0;34m]\u001b[0m\u001b[0;34m,\u001b[0m \u001b[0;34m[\u001b[0m\u001b[0mx\u001b[0m\u001b[0;34m[\u001b[0m\u001b[0;36m2\u001b[0m\u001b[0;34m]\u001b[0m\u001b[0;34m,\u001b[0m \u001b[0mx\u001b[0m\u001b[0;34m[\u001b[0m\u001b[0;36m3\u001b[0m\u001b[0;34m]\u001b[0m\u001b[0;34m]\u001b[0m\u001b[0;34m]\u001b[0m\u001b[0;34m)\u001b[0m\u001b[0;34m\u001b[0m\u001b[0;34m\u001b[0m\u001b[0m\n\u001b[0;32m----> 6\u001b[0;31m     \u001b[0mm_min\u001b[0m \u001b[0;34m=\u001b[0m \u001b[0mnp\u001b[0m\u001b[0;34m.\u001b[0m\u001b[0mlinalg\u001b[0m\u001b[0;34m.\u001b[0m\u001b[0minv\u001b[0m\u001b[0;34m(\u001b[0m\u001b[0mM\u001b[0m\u001b[0;34m(\u001b[0m\u001b[0mx\u001b[0m\u001b[0;34m[\u001b[0m\u001b[0;36m1\u001b[0m\u001b[0;34m]\u001b[0m\u001b[0;34m)\u001b[0m\u001b[0;34m)\u001b[0m\u001b[0;34m\u001b[0m\u001b[0;34m\u001b[0m\u001b[0m\n\u001b[0m\u001b[1;32m      7\u001b[0m     \u001b[0mA\u001b[0m \u001b[0;34m=\u001b[0m \u001b[0mnp\u001b[0m\u001b[0;34m.\u001b[0m\u001b[0marray\u001b[0m\u001b[0;34m(\u001b[0m\u001b[0;34m[\u001b[0m\u001b[0;34m[\u001b[0m\u001b[0;34m-\u001b[0m\u001b[0mm_min\u001b[0m\u001b[0;34m.\u001b[0m\u001b[0mdot\u001b[0m\u001b[0;34m(\u001b[0m\u001b[0mC\u001b[0m\u001b[0;34m(\u001b[0m\u001b[0mx\u001b[0m\u001b[0;34m[\u001b[0m\u001b[0;36m1\u001b[0m\u001b[0;34m]\u001b[0m\u001b[0;34m,\u001b[0m \u001b[0mx\u001b[0m\u001b[0;34m[\u001b[0m\u001b[0;36m0\u001b[0m\u001b[0;34m]\u001b[0m\u001b[0;34m)\u001b[0m\u001b[0;34m)\u001b[0m\u001b[0;34m,\u001b[0m \u001b[0;36m0\u001b[0m\u001b[0;34m]\u001b[0m\u001b[0;34m,\u001b[0m \u001b[0;34m[\u001b[0m\u001b[0;36m1\u001b[0m\u001b[0;34m,\u001b[0m \u001b[0;36m0\u001b[0m\u001b[0;34m]\u001b[0m\u001b[0;34m]\u001b[0m\u001b[0;34m)\u001b[0m\u001b[0;34m\u001b[0m\u001b[0;34m\u001b[0m\u001b[0m\n\u001b[1;32m      8\u001b[0m     \u001b[0mB\u001b[0m \u001b[0;34m=\u001b[0m \u001b[0mnp\u001b[0m\u001b[0;34m.\u001b[0m\u001b[0marray\u001b[0m\u001b[0;34m(\u001b[0m\u001b[0;34m[\u001b[0m\u001b[0mm_min\u001b[0m\u001b[0;34m.\u001b[0m\u001b[0mdot\u001b[0m\u001b[0;34m(\u001b[0m\u001b[0mtau\u001b[0m \u001b[0;34m-\u001b[0m \u001b[0mG\u001b[0m\u001b[0;34m(\u001b[0m\u001b[0mx\u001b[0m\u001b[0;34m[\u001b[0m\u001b[0;36m1\u001b[0m\u001b[0;34m]\u001b[0m\u001b[0;34m)\u001b[0m\u001b[0;34m)\u001b[0m\u001b[0;34m,\u001b[0m \u001b[0;36m0\u001b[0m\u001b[0;34m]\u001b[0m\u001b[0;34m)\u001b[0m\u001b[0;34m\u001b[0m\u001b[0;34m\u001b[0m\u001b[0m\n",
      "\u001b[0;32m<ipython-input-5-880ad1758c9a>\u001b[0m in \u001b[0;36mM\u001b[0;34m(q)\u001b[0m\n\u001b[1;32m      2\u001b[0m     \u001b[0mq_1\u001b[0m \u001b[0;34m=\u001b[0m \u001b[0mq\u001b[0m\u001b[0;34m[\u001b[0m\u001b[0;36m0\u001b[0m\u001b[0;34m]\u001b[0m\u001b[0;34m\u001b[0m\u001b[0;34m\u001b[0m\u001b[0m\n\u001b[1;32m      3\u001b[0m     \u001b[0mq_2\u001b[0m \u001b[0;34m=\u001b[0m \u001b[0mq\u001b[0m\u001b[0;34m[\u001b[0m\u001b[0;36m1\u001b[0m\u001b[0;34m]\u001b[0m\u001b[0;34m\u001b[0m\u001b[0;34m\u001b[0m\u001b[0m\n\u001b[0;32m----> 4\u001b[0;31m     return np.array([[m_2*l_1(l_1 + 2*l_c2**2 + 2*l_c2*np.cos(q_2)) + 4/3*(m_1*(l_c1**2))+ 4/3*(m_2*(l_c2**2)), \n\u001b[0m\u001b[1;32m      5\u001b[0m                      \u001b[0mm_2\u001b[0m\u001b[0;34m*\u001b[0m\u001b[0ml_1\u001b[0m\u001b[0;34m*\u001b[0m\u001b[0ml_c2\u001b[0m\u001b[0;34m*\u001b[0m\u001b[0mnp\u001b[0m\u001b[0;34m.\u001b[0m\u001b[0mcos\u001b[0m\u001b[0;34m(\u001b[0m\u001b[0mq_2\u001b[0m\u001b[0;34m)\u001b[0m \u001b[0;34m+\u001b[0m \u001b[0;36m4\u001b[0m\u001b[0;34m/\u001b[0m\u001b[0;36m3\u001b[0m\u001b[0;34m*\u001b[0m\u001b[0;34m(\u001b[0m\u001b[0mm_2\u001b[0m\u001b[0;34m*\u001b[0m\u001b[0;34m(\u001b[0m\u001b[0ml_c2\u001b[0m\u001b[0;34m**\u001b[0m\u001b[0;36m2\u001b[0m\u001b[0;34m)\u001b[0m\u001b[0;34m)\u001b[0m\u001b[0;34m\u001b[0m\u001b[0;34m\u001b[0m\u001b[0m\n\u001b[1;32m      6\u001b[0m                      ], [m_2*l_1*l_c2*np.cos(q_2) + 4/3*(m_2*(l_c2**2)), 4/3*(m_2*(l_c2**2))]])\n",
      "\u001b[0;31mTypeError\u001b[0m: 'float' object is not callable"
     ]
    }
   ],
   "source": [
    "tau = np.array([0.1, 0.1])\n",
    "\n",
    "def simulation(x, t):\n",
    "    x = np.array([[x[0], x[1]], [x[2], x[3]]])\n",
    "    m_min = np.linalg.inv(M(x[1]))\n",
    "    A = np.array([[-m_min.dot(C(x[1], x[0])), 0], [1, 0]])\n",
    "    B = np.array([m_min.dot(tau - G(x[1])), 0])\n",
    "    return A.dot(x) + B\n",
    "\n",
    "time = np.linspace(0, 5, 10000)\n",
    "x_0 = np.array([0.01, 0.01,0.001, 0.001])\n",
    "res = odeint(simulation, x_0, time)"
   ]
  },
  {
   "cell_type": "markdown",
   "metadata": {},
   "source": [
    "3. perform parameter estimation of the robot:\n",
    "\n",
    "    - design PD controller for each joint of the robot ($\\tau = K_p (q^∗ − q) + K_d ( \\dot{q}^∗ − \\dot{q}))$;\n",
    "\n",
    "    - make the robot to track $q^∗(t) = \\begin{bmatrix}cos(t) & cos(t)\\end{bmatrix}^T$ for 5 seconds,\n",
    "    record q(t) and $\\dot{q}(t)$;\n",
    "\n",
    "    - using expression for$Y (q, \\dot{q}, \\ddot{q})$ from [1] estimate parameters $\\pi$ by\n",
    "    means least squares;\n",
    "\n",
    "    - for different trajectory perform validation of estimated parameters $\\hat{\\pi}$"
   ]
  },
  {
   "cell_type": "code",
   "execution_count": null,
   "metadata": {},
   "outputs": [],
   "source": []
  },
  {
   "cell_type": "code",
   "execution_count": null,
   "metadata": {},
   "outputs": [],
   "source": []
  },
  {
   "cell_type": "code",
   "execution_count": null,
   "metadata": {},
   "outputs": [],
   "source": []
  },
  {
   "cell_type": "markdown",
   "metadata": {},
   "source": [
    "4. assume that masses of each link slowly changes according to the rule that\n",
    "you choose (different rule for each link). Design computed torque controller with feedforward adaptive term (follow steps from lab). For online\n",
    "parameter estimation use gradient descent. Show performance of the controller on two complex trajectories that you choose."
   ]
  },
  {
   "cell_type": "markdown",
   "metadata": {},
   "source": [
    "### ref\n",
    "M. W. Spong, S. Hutchinson, and M. Vidyasagar, Robot modeling and con-\n",
    "trol. John Wiley & Sons, 2020."
   ]
  },
  {
   "cell_type": "code",
   "execution_count": 2,
   "metadata": {},
   "outputs": [
    {
     "data": {
      "text/plain": [
       "31"
      ]
     },
     "execution_count": 2,
     "metadata": {},
     "output_type": "execute_result"
    }
   ],
   "source": [
    "255 - 128 - 64 - 32"
   ]
  },
  {
   "cell_type": "code",
   "execution_count": null,
   "metadata": {},
   "outputs": [],
   "source": []
  }
 ],
 "metadata": {
  "kernelspec": {
   "display_name": "Python 3",
   "language": "python",
   "name": "python3"
  },
  "language_info": {
   "codemirror_mode": {
    "name": "ipython",
    "version": 3
   },
   "file_extension": ".py",
   "mimetype": "text/x-python",
   "name": "python",
   "nbconvert_exporter": "python",
   "pygments_lexer": "ipython3",
   "version": "3.7.3"
  }
 },
 "nbformat": 4,
 "nbformat_minor": 2
}
